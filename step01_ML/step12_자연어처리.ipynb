{
 "cells": [
  {
   "cell_type": "markdown",
   "metadata": {},
   "source": [
    "### 자연어 처리 Text 분석\n",
    "\n",
    "**step01 - 자연어 처리 library**\n",
    "\n",
    "1. 설치 : pip install nltk\n",
    "\n",
    "<hr>\n",
    "\n",
    "**step02 : 한글 분석을 위한 추가 library setting**\n",
    "\n",
    "1. 접속 : https://www.lfd.uci.edu/~gohlke/pythonlibs/#jpype\n",
    "2. 다운로드 :  JPype1‑1.2.0‑cp38‑cp38‑win_amd64.whl \n",
    "3. 설치 : whl 파일이 있는 영역에서 다음 명령어 입력해서 실행\n",
    "    >pip install JPype1-1.2.0-cp38-cp38-win_amd64.whl\n",
    "    \n",
    "4. 한글 text 분석 모듈 설치 : pip install KoNLPy     \n",
    "    "
   ]
  },
  {
   "cell_type": "markdown",
   "metadata": {},
   "source": [
    "<hr>\n",
    "\n",
    "**NLTK**\n",
    "\n",
    "1. 영어 토크나이징 library & 형태소 분석\n",
    "2. 영어 text에 대한 전처리 및 분석을 위한 가장 유명한 library\n",
    "\n",
    "**KoNLPy**\n",
    "\n",
    "1. 파이썬으로 구현된 한국어 형태소 분석 library\n",
    "2. 설치의 장점 : 꼬꼬마,  트위터 등의 형태소 분석기를 쉽게 사용 가능하게 하는 장점 \n",
    "3. 추가 : JDK 설치 필수 : 제약 조건 jdk1.7 이상이어야 함\n",
    "4. 추가 : python 버전에 맞는 library 설치(pip install JPype1-1.2.0-cp38-cp38-win_amd64.whl)\n",
    "\n",
    "\n"
   ]
  },
  {
   "cell_type": "code",
   "execution_count": 2,
   "metadata": {},
   "outputs": [],
   "source": [
    "import nltk"
   ]
  },
  {
   "cell_type": "code",
   "execution_count": 3,
   "metadata": {},
   "outputs": [
    {
     "name": "stdout",
     "output_type": "stream",
     "text": [
      "showing info https://raw.githubusercontent.com/nltk/nltk_data/gh-pages/index.xml\n"
     ]
    },
    {
     "data": {
      "text/plain": [
       "True"
      ]
     },
     "execution_count": 3,
     "metadata": {},
     "output_type": "execute_result"
    }
   ],
   "source": [
    "nltk.download()"
   ]
  },
  {
   "cell_type": "code",
   "execution_count": 4,
   "metadata": {},
   "outputs": [
    {
     "name": "stdout",
     "output_type": "stream",
     "text": [
      "['I', 'am', 'going', 'to', 'Seoul', ',', 'Korea', '.']\n",
      "[('I', 'PRP'), ('am', 'VBP'), ('going', 'VBG'), ('to', 'TO'), ('Seoul', 'NNP'), (',', ','), ('Korea', 'NNP'), ('.', '.')]\n"
     ]
    }
   ],
   "source": [
    "from nltk import word_tokenize\n",
    " \n",
    "tokens =  word_tokenize(\"I am going to Seoul, Korea.\")\n",
    "print( tokens )\n",
    "print( nltk.pos_tag(tokens) )\n"
   ]
  },
  {
   "cell_type": "code",
   "execution_count": 6,
   "metadata": {},
   "outputs": [
    {
     "name": "stdout",
     "output_type": "stream",
     "text": [
      "['단독', '입찰', '보다', '복수', '입찰', '의', '경우']\n",
      "['항공기', '체계', '종합', '개발', '경험']\n",
      "['날카로운 분석', '날카로운 분석과 신뢰감', '날카로운 분석과 신뢰감 있는 진행', '분석', '신뢰', '진행']\n",
      "[('이', 'Determiner'), ('것', 'Noun'), ('도', 'Josa'), ('되나욬', 'Noun'), ('ㅋㅋ', 'KoreanParticle')]\n",
      "[('이', 'Determiner'), ('것', 'Noun'), ('도', 'Josa'), ('되나요', 'Verb'), ('ㅋㅋ', 'KoreanParticle')]\n",
      "[('이', 'Determiner'), ('것', 'Noun'), ('도', 'Josa'), ('되다', 'Verb'), ('ㅋㅋ', 'KoreanParticle')]\n"
     ]
    }
   ],
   "source": [
    "from konlpy.tag import Okt   #Twitter\n",
    "okt = Okt()\n",
    "\n",
    "print(okt.morphs('단독입찰보다 복수입찰의 경우'))\n",
    "#['단독', '입찰', '보다', '복수', '입찰', '의', '경우']\n",
    "\n",
    "print(okt.nouns('유일하게 항공기 체계 종합개발 경험을 갖고 있는 KAI는'))\n",
    "#['항공기', '체계', '종합', '개발', '경험']\n",
    "\n",
    "print(okt.phrases('날카로운 분석과 신뢰감 있는 진행으로'))\n",
    "#['날카로운 분석', '날카로운 분석과 신뢰감', '날카로운 분석과 신뢰감 있는 진행', '분석', '신뢰', '진행']\n",
    "\n",
    "print(okt.pos('이것도 되나욬ㅋㅋ'))\n",
    "#[('이', 'Determiner'), ('것', 'Noun'), ('도', 'Josa'), ('되나욬', 'Noun'), ('ㅋㅋ', 'KoreanParticle')]\n",
    "\n",
    "print(okt.pos('이것도 되나욬ㅋㅋ', norm=True))\n",
    "#[('이', 'Determiner'), ('것', 'Noun'), ('도', 'Josa'), ('되나요', 'Verb'), ('ㅋㅋ', 'KoreanParticle')]\n",
    "\n",
    "print(okt.pos('이것도 되나욬ㅋㅋ', norm=True, stem=True))\n",
    "#[('이', 'Determiner'), ('것', 'Noun'), ('도', 'Josa'), ('되다', 'Verb'), ('ㅋㅋ', 'KoreanParticle')]\n"
   ]
  },
  {
   "cell_type": "code",
   "execution_count": null,
   "metadata": {},
   "outputs": [],
   "source": []
  }
 ],
 "metadata": {
  "kernelspec": {
   "display_name": "Python 3",
   "language": "python",
   "name": "python3"
  },
  "language_info": {
   "codemirror_mode": {
    "name": "ipython",
    "version": 3
   },
   "file_extension": ".py",
   "mimetype": "text/x-python",
   "name": "python",
   "nbconvert_exporter": "python",
   "pygments_lexer": "ipython3",
   "version": "3.8.5"
  }
 },
 "nbformat": 4,
 "nbformat_minor": 4
}
